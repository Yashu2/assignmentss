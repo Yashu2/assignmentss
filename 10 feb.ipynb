{
 "cells": [
  {
   "cell_type": "raw",
   "id": "a0758e9d-2b7f-4873-8223-af6015c898b8",
   "metadata": {},
   "source": [
    "solution of question 1 :-"
   ]
  },
  {
   "cell_type": "raw",
   "id": "4b7da493-a7cd-4bf6-a5e2-034f53771d26",
   "metadata": {},
   "source": [
    "Open function is used to create a file and to open a file.\n",
    "Differnet modes of opening a file are:-\n",
    "r\tOpen a file for reading. (default)\n",
    "w\tOpen a file for writing. Creates a new file if it does not exist or truncates the file if it exists.\n",
    "x\tOpen a file for exclusive creation. If the file already exists, the operation fails.\n",
    "a\tOpen a file for appending at the end of the file without truncating it. Creates a new file if it does not exist.\n",
    "t\tOpen in text mode. (default)\n",
    "b\tOpen in binary mode.\n",
    "+\tOpen a file for updating (reading and writing)"
   ]
  },
  {
   "cell_type": "raw",
   "id": "e2775da4-3c35-4755-b39a-df216e4d5499",
   "metadata": {},
   "source": [
    "solution of question 2 :-"
   ]
  },
  {
   "cell_type": "raw",
   "id": "92f200b3-478e-4426-a404-29666221ef32",
   "metadata": {},
   "source": [
    "Close function is used to close a file in python.It is important to close a file because any changes to files in python do not go into effect until after the file is closed also making sure files are closed after use will protect against hard-to-debug issues like running out of file handles or experiencing corrupted data."
   ]
  },
  {
   "cell_type": "raw",
   "id": "bb27cc28-5292-4188-a4e4-178a61f1ca95",
   "metadata": {},
   "source": [
    "Solution of question 3:-"
   ]
  },
  {
   "cell_type": "code",
   "execution_count": 2,
   "id": "83821cbb-b043-4acd-b890-edf457c240d6",
   "metadata": {},
   "outputs": [],
   "source": [
    "with open(\"test.txt\",'w') as f:\n",
    "    f.write(\"I want to become a data scientist\")\n",
    "    f.close()"
   ]
  },
  {
   "cell_type": "code",
   "execution_count": 6,
   "id": "029551aa-479d-461f-89e0-65de54f8ffcc",
   "metadata": {},
   "outputs": [
    {
     "name": "stdout",
     "output_type": "stream",
     "text": [
      "I want to become a data scientist\n"
     ]
    }
   ],
   "source": [
    "with open(\"test.txt\",'r') as f:\n",
    "    print(f.read())"
   ]
  },
  {
   "cell_type": "raw",
   "id": "2e3c2675-8caa-4cb1-b98e-604e7aebb10a",
   "metadata": {},
   "source": [
    "Solution of question 4 :-"
   ]
  },
  {
   "cell_type": "raw",
   "id": "1923b100-1179-4036-b06c-40900dd5702d",
   "metadata": {},
   "source": [
    "read() method is used for reading the content of the file in python also The read() method returns the specified number of bytes from the file. Default is -1 which means the whole file."
   ]
  },
  {
   "cell_type": "code",
   "execution_count": 10,
   "id": "c7570f60-2ec7-4ccc-b724-7ec87039daff",
   "metadata": {},
   "outputs": [],
   "source": [
    "with open(\"test1.txt\", 'w') as f :\n",
    "    f.write(\"hello world\")\n",
    "   "
   ]
  },
  {
   "cell_type": "code",
   "execution_count": 12,
   "id": "4ddb474b-cb81-405d-bbe3-024df084190a",
   "metadata": {},
   "outputs": [
    {
     "name": "stdout",
     "output_type": "stream",
     "text": [
      "hello world\n"
     ]
    }
   ],
   "source": [
    "with open(\"test1.txt\", 'r') as f :\n",
    "    print(f.read())"
   ]
  },
  {
   "cell_type": "raw",
   "id": "b17f08b1-2bee-474c-a801-d746e4e70104",
   "metadata": {},
   "source": [
    "readline() method in python is used for returning one line from a file also ytes from the line to return, by using the size parameter."
   ]
  },
  {
   "cell_type": "code",
   "execution_count": 14,
   "id": "e279fbea-fa82-47de-bfa1-8ff1659c5c17",
   "metadata": {},
   "outputs": [],
   "source": [
    "with open(\"test2.txt\", 'w') as f :\n",
    "    f.write(\"hello world\\n hello world\\n hello world\")\n",
    "    "
   ]
  },
  {
   "cell_type": "code",
   "execution_count": 15,
   "id": "1c3c1384-2e36-4028-a3bf-9555916bfb92",
   "metadata": {},
   "outputs": [
    {
     "name": "stdout",
     "output_type": "stream",
     "text": [
      "hello world\n",
      "\n"
     ]
    }
   ],
   "source": [
    "with open(\"test2.txt\", 'r') as f :\n",
    "    print(f.readline())"
   ]
  },
  {
   "cell_type": "raw",
   "id": "f43c7818-ceac-4f1d-bb31-b0ea302c7a70",
   "metadata": {},
   "source": [
    "readlines() method is used to return all lines in the file, as a list where each line is an item in the list object"
   ]
  },
  {
   "cell_type": "code",
   "execution_count": 16,
   "id": "1ec6dd88-16b9-451f-aaa5-d2dee04052ed",
   "metadata": {},
   "outputs": [],
   "source": [
    "with open(\"test3.txt\", 'w') as f :\n",
    "    f.write(\"hello world\\n hello world\\n hello world\")\n",
    "    "
   ]
  },
  {
   "cell_type": "code",
   "execution_count": 17,
   "id": "e0ff9443-c4ec-4937-97ca-4b20b17efa22",
   "metadata": {},
   "outputs": [
    {
     "name": "stdout",
     "output_type": "stream",
     "text": [
      "['hello world\\n', ' hello world\\n', ' hello world']\n"
     ]
    }
   ],
   "source": [
    "with open(\"test2.txt\", 'r') as f :\n",
    "    print(f.readlines())"
   ]
  },
  {
   "cell_type": "raw",
   "id": "499f65b5-6663-4ec2-aa8b-ca5d18a13619",
   "metadata": {},
   "source": [
    "Solution of question 5 :-"
   ]
  },
  {
   "cell_type": "raw",
   "id": "b6c2cb3e-c027-4700-8234-ce153c019536",
   "metadata": {},
   "source": [
    "With statement is used with open() because there is no need to call file.close() when using with statement. The with statement itself ensures proper acquisition and release of resources.\n",
    "also the advantage of using with statement is it simplifies exception handling by encapsulating common preparation and cleanup tasks."
   ]
  },
  {
   "cell_type": "raw",
   "id": "240cf215-e339-475e-9b35-da3b8b68b4b3",
   "metadata": {},
   "source": [
    "Solution of question6 :-"
   ]
  },
  {
   "cell_type": "raw",
   "id": "d26dd3b4-3749-43c6-8f63-ff864174e0e0",
   "metadata": {},
   "source": [
    "The write() method writes a specified text to the file.\n",
    "The writelines() method writes the items of a list to the file."
   ]
  },
  {
   "cell_type": "code",
   "execution_count": 21,
   "id": "f3b43267-0275-4070-8a29-2d4bae9db58c",
   "metadata": {},
   "outputs": [],
   "source": [
    "with open(\"test4.txt\", 'w') as f :\n",
    "    f.write(\"hello world\\n\")\n",
    "    f.writelines([\"how are you\\n\",\"all good\\n\"])"
   ]
  },
  {
   "cell_type": "code",
   "execution_count": 22,
   "id": "41ed0131-9aa2-467b-8e8b-df599033218c",
   "metadata": {},
   "outputs": [
    {
     "name": "stdout",
     "output_type": "stream",
     "text": [
      "hello world\n",
      "how are you\n",
      "all good\n",
      "\n"
     ]
    }
   ],
   "source": [
    "with open(\"test4.txt\", 'r') as f :\n",
    "    print(f.read())"
   ]
  },
  {
   "cell_type": "code",
   "execution_count": null,
   "id": "c121fddf-ce7e-47b8-923d-caf85d3af70e",
   "metadata": {},
   "outputs": [],
   "source": []
  }
 ],
 "metadata": {
  "kernelspec": {
   "display_name": "Python 3 (ipykernel)",
   "language": "python",
   "name": "python3"
  },
  "language_info": {
   "codemirror_mode": {
    "name": "ipython",
    "version": 3
   },
   "file_extension": ".py",
   "mimetype": "text/x-python",
   "name": "python",
   "nbconvert_exporter": "python",
   "pygments_lexer": "ipython3",
   "version": "3.10.8"
  }
 },
 "nbformat": 4,
 "nbformat_minor": 5
}
