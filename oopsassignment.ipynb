{
 "cells": [
  {
   "cell_type": "markdown",
   "id": "e0836ee1-7f07-4d79-9e35-257914841f8d",
   "metadata": {},
   "source": [
    "solution of question 1"
   ]
  },
  {
   "cell_type": "code",
   "execution_count": 20,
   "id": "8e2ffb54-5047-40be-bd6d-fef3ea41cd96",
   "metadata": {},
   "outputs": [],
   "source": [
    "class vehicle :\n",
    "    def __init__ (self , name_of_vehicle , max_speed , average_of_vehicle) :\n",
    "        \n",
    "        self.name_of_vehicle = name_of_vehicle\n",
    "        self.max_speed = max_speed\n",
    "        self.average_of_vehicle = average_of_vehicle\n",
    "        "
   ]
  },
  {
   "cell_type": "markdown",
   "id": "5ee0c42f-f853-4527-a384-cdee2201ff63",
   "metadata": {},
   "source": [
    "solution of question 2"
   ]
  },
  {
   "cell_type": "code",
   "execution_count": 12,
   "id": "222e1694-50f8-43ff-a2dd-7fbde1ad57b0",
   "metadata": {},
   "outputs": [],
   "source": [
    "class child_vehicle (vehicle) :\n",
    "    def seating_capacity(self,capacity) :\n",
    "        self.capacity = capacity\n",
    "        return self.capacity , self.name_of_vehicle\n",
    "    "
   ]
  },
  {
   "cell_type": "markdown",
   "id": "3a03e281-0209-46bd-b274-b67cb57a0fba",
   "metadata": {},
   "source": [
    "solution of question 3"
   ]
  },
  {
   "cell_type": "markdown",
   "id": "46a8307c-9cc6-4114-aa13-80b9dc786a70",
   "metadata": {},
   "source": [
    " When a class inherit from more then one class.Example class 3 inherit from both classes 1 and then it is called multiple inheritance"
   ]
  },
  {
   "cell_type": "code",
   "execution_count": 26,
   "id": "13a13418-d7ca-47fa-8efd-7e9cf8d893bb",
   "metadata": {},
   "outputs": [],
   "source": [
    "class class1 :\n",
    "    def test(self) :\n",
    "        return \"this is class 1\""
   ]
  },
  {
   "cell_type": "code",
   "execution_count": 27,
   "id": "c23c637f-41f2-47c1-aea0-87bd77672f50",
   "metadata": {},
   "outputs": [],
   "source": [
    "class class2 :\n",
    "    def test2(self) :\n",
    "        return \"this is class2\"\n",
    "    "
   ]
  },
  {
   "cell_type": "code",
   "execution_count": 28,
   "id": "9adab5e7-b8fe-4bc7-ba95-01d2312d5921",
   "metadata": {},
   "outputs": [],
   "source": [
    "class class3(class1 , class2) :\n",
    "    pass"
   ]
  },
  {
   "cell_type": "code",
   "execution_count": 29,
   "id": "58312df8-b0cd-48fa-8a53-c9e6369b35b9",
   "metadata": {},
   "outputs": [],
   "source": [
    "obj_class3 = class3()"
   ]
  },
  {
   "cell_type": "code",
   "execution_count": 30,
   "id": "d30977f6-6c28-49b8-a835-616d2a168c4d",
   "metadata": {},
   "outputs": [
    {
     "data": {
      "text/plain": [
       "'this is class 1'"
      ]
     },
     "execution_count": 30,
     "metadata": {},
     "output_type": "execute_result"
    }
   ],
   "source": [
    "obj_class3.test()"
   ]
  },
  {
   "cell_type": "code",
   "execution_count": 31,
   "id": "5e16b155-c625-431d-a446-203df5055edd",
   "metadata": {},
   "outputs": [
    {
     "data": {
      "text/plain": [
       "'this is class2'"
      ]
     },
     "execution_count": 31,
     "metadata": {},
     "output_type": "execute_result"
    }
   ],
   "source": [
    "obj_class3.test2()"
   ]
  },
  {
   "cell_type": "markdown",
   "id": "6522abdb-5e11-4ed8-80c0-4061c215a66c",
   "metadata": {},
   "source": [
    "solution of question 4"
   ]
  },
  {
   "cell_type": "markdown",
   "id": "11790897-9838-4d2b-9d73-ad5cb9218a6e",
   "metadata": {},
   "source": [
    "Getter and setter are basically used for data encapsulation.Getter is used for giving access to private variables outside the class similarly setter is used for changing the value of private variable"
   ]
  },
  {
   "cell_type": "code",
   "execution_count": 4,
   "id": "ef059f2c-cd7a-42eb-a6c2-e5cf98f145b6",
   "metadata": {},
   "outputs": [],
   "source": [
    "class account :\n",
    "    def __init__(self) :\n",
    "        self.__balance = 0\n",
    "        \n",
    "    @property\n",
    "    def balance_get(self):\n",
    "        return self.__balance\n",
    "    @balance_get.setter\n",
    "    def balance_set(self,balance):\n",
    "        self.__balance = balance\n",
    "        "
   ]
  },
  {
   "cell_type": "code",
   "execution_count": 5,
   "id": "77a88f00-27c8-4825-80fd-18b7d5cdd5be",
   "metadata": {},
   "outputs": [],
   "source": [
    "a = account()"
   ]
  },
  {
   "cell_type": "code",
   "execution_count": 6,
   "id": "93ebbaa4-3d95-481d-a513-17c5ce71d482",
   "metadata": {},
   "outputs": [],
   "source": [
    "a.balance_set = 3500"
   ]
  },
  {
   "cell_type": "code",
   "execution_count": 7,
   "id": "293be618-af9e-44af-b6f3-fe555277b706",
   "metadata": {},
   "outputs": [
    {
     "data": {
      "text/plain": [
       "3500"
      ]
     },
     "execution_count": 7,
     "metadata": {},
     "output_type": "execute_result"
    }
   ],
   "source": [
    "a.balance_get"
   ]
  },
  {
   "cell_type": "markdown",
   "id": "739de036-10d7-488b-9a6b-205db45c8e37",
   "metadata": {},
   "source": [
    "solution of question 5 :-"
   ]
  },
  {
   "cell_type": "markdown",
   "id": "106dc7bd-34f4-4203-8938-7729fb3df2dc",
   "metadata": {},
   "source": [
    "Method overriding is feature in oops in which a child class can provide specific implemention of method that is already defined in parent class...The version of a method that is executed will be determined by the object that is used to invoke it. If an object of a parent class is used to invoke the method, then the version in the parent class will be executed, but if an object of the subclass is used to invoke the method, then the version in the child class will be executed.  "
   ]
  },
  {
   "cell_type": "code",
   "execution_count": 8,
   "id": "6119be73-d6ce-47ba-b198-751f20207c8f",
   "metadata": {},
   "outputs": [],
   "source": [
    "class father :\n",
    "    def age(self):\n",
    "        return 50\n",
    "class son :\n",
    "    def age(self):\n",
    "        return 25\n",
    "        "
   ]
  },
  {
   "cell_type": "code",
   "execution_count": 9,
   "id": "323b4a13-a237-4d8f-b3ce-9b1cc217fc54",
   "metadata": {},
   "outputs": [],
   "source": [
    "a = father()"
   ]
  },
  {
   "cell_type": "code",
   "execution_count": 10,
   "id": "a5bc5044-ecf3-47a2-838e-7bb021bcb524",
   "metadata": {},
   "outputs": [],
   "source": [
    "b = son()"
   ]
  },
  {
   "cell_type": "code",
   "execution_count": 11,
   "id": "634db5aa-1433-40de-bffc-ef5261b92a1e",
   "metadata": {},
   "outputs": [
    {
     "data": {
      "text/plain": [
       "50"
      ]
     },
     "execution_count": 11,
     "metadata": {},
     "output_type": "execute_result"
    }
   ],
   "source": [
    "a.age()"
   ]
  },
  {
   "cell_type": "code",
   "execution_count": 12,
   "id": "a1870cf9-89f7-4b1d-88b8-ad5480afed4c",
   "metadata": {},
   "outputs": [
    {
     "data": {
      "text/plain": [
       "25"
      ]
     },
     "execution_count": 12,
     "metadata": {},
     "output_type": "execute_result"
    }
   ],
   "source": [
    "b.age()"
   ]
  },
  {
   "cell_type": "code",
   "execution_count": null,
   "id": "21342f48-96d5-4b44-b487-9c7cb41c9839",
   "metadata": {},
   "outputs": [],
   "source": []
  }
 ],
 "metadata": {
  "kernelspec": {
   "display_name": "Python 3 (ipykernel)",
   "language": "python",
   "name": "python3"
  },
  "language_info": {
   "codemirror_mode": {
    "name": "ipython",
    "version": 3
   },
   "file_extension": ".py",
   "mimetype": "text/x-python",
   "name": "python",
   "nbconvert_exporter": "python",
   "pygments_lexer": "ipython3",
   "version": "3.10.8"
  }
 },
 "nbformat": 4,
 "nbformat_minor": 5
}
